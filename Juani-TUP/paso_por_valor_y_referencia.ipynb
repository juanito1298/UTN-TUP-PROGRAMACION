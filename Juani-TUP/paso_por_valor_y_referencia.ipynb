{
 "cells": [
  {
   "cell_type": "markdown",
   "metadata": {},
   "source": [
    "# Paso por Valor y Referencia en Python\n",
    "Este notebook muestra ejemplos explicativos sobre cómo funciona el paso de parámetros en Python, especialmente sobre la diferencia entre **reasignar valores** y **modificar objetos mutables**.\n",
    "\n",
    "---"
   ]
  },
  {
   "cell_type": "markdown",
   "id": "1c1fd81d",
   "metadata": {},
   "source": [
    "## Ejemplo 1: Tipos inmutables (`int`)"
   ]
  },
  {
   "cell_type": "code",
   "execution_count": null,
   "id": "c059be00",
   "metadata": {},
   "outputs": [],
   "source": [
    "def modificar_valor(x):\n",
    "    print(\"Dentro de la función antes de reasignar:\", x)\n",
    "    x = 20\n",
    "    print(\"Dentro de la función después de reasignar:\", x)\n",
    "\n",
    "a = 10\n",
    "modificar_valor(a)\n",
    "print(\"Fuera de la función:\", a)"
   ]
  },
  {
   "cell_type": "markdown",
   "metadata": {},
   "source": [
    "\n",
    "`a` es un entero, un tipo inmutable.  \n",
    "Reasignar `x` dentro de la función no afecta el valor de `a` fuera.  \n",
    "Esto muestra que los inmutables no se modifican, y que la reasignación no afecta al original  "
   ]
  },
  {
   "cell_type": "markdown",
   "id": "06cc0cf8",
   "metadata": {},
   "source": [
    "## Ejemplo 2: Lista (mutable), modificación interna"
   ]
  },
  {
   "cell_type": "code",
   "execution_count": null,
   "id": "4ac02f40",
   "metadata": {},
   "outputs": [],
   "source": [
    "def modificar_lista(lista):\n",
    "    print(\"Dentro de la función antes de modificar:\", lista)\n",
    "    lista.append(4)\n",
    "    print(\"Dentro de la función después de modificar:\", lista)\n",
    "\n",
    "mi_lista = [1, 2, 3]\n",
    "modificar_lista(mi_lista)\n",
    "print(\"Fuera de la función:\", mi_lista)"
   ]
  },
  {
   "cell_type": "markdown",
   "metadata": {},
   "source": [
    "Las listas son mutables, por lo que al hacer `append`, se modifica el mismo objeto y el cambio se ve desde fuera."
   ]
  },
  {
   "cell_type": "markdown",
   "id": "e6f97a06",
   "metadata": {},
   "source": [
    "## Ejemplo 3: Reasignación de lista no modifica el original"
   ]
  },
  {
   "cell_type": "code",
   "execution_count": null,
   "id": "9e440590",
   "metadata": {},
   "outputs": [],
   "source": [
    "def reasignar_lista(lista):\n",
    "    print(\"Dentro de la función antes de reasignar:\", lista)\n",
    "    lista = [9, 9, 9]\n",
    "    print(\"Dentro de la función después de reasignar:\", lista)\n",
    "\n",
    "mi_lista = [1, 2, 3]\n",
    "reasignar_lista(mi_lista)\n",
    "print(\"Fuera de la función:\", mi_lista)"
   ]
  },
  {
   "cell_type": "markdown",
   "metadata": {},
   "source": [
    "Aunque las listas son mutables, una reasignación dentro de la función no afecta al objeto original fuera."
   ]
  },
  {
   "cell_type": "markdown",
   "id": "3a923fc6",
   "metadata": {},
   "source": [
    "## Ejemplo 5: Lista de listas "
   ]
  },
  {
   "cell_type": "code",
   "execution_count": null,
   "id": "d06fa1be",
   "metadata": {},
   "outputs": [],
   "source": [
    "def agregar_elemento(matriz):\n",
    "    matriz[0].append(99)\n",
    "    matriz.append([4, 5, 6])\n",
    "\n",
    "matriz = [[1, 2], [3, 4]]\n",
    "agregar_elemento(matriz)\n",
    "print(\"Matriz final:\", matriz)"
   ]
  },
  {
   "cell_type": "markdown",
   "metadata": {},
   "source": [
    "`matriz[0].append(99)` modifica la sublista original → efecto visible fuera  \n",
    "`matriz.append(...)` agrega una nueva sublista → también modifica el objeto original  \n",
    "Se modifican tanto sublistas como la estructura principal. Las sublistas también son referencias mutables."
   ]
  },
  {
   "cell_type": "markdown",
   "id": "200faf0a",
   "metadata": {},
   "source": [
    "## Ejemplo 6: Reemplazo de sublista"
   ]
  },
  {
   "cell_type": "code",
   "execution_count": 5,
   "id": "3b5de376",
   "metadata": {},
   "outputs": [
    {
     "name": "stdout",
     "output_type": "stream",
     "text": [
      "Matriz modificada: [[0, 0, 0], [3, 4]]\n"
     ]
    }
   ],
   "source": [
    "def reemplazar_sublista(matriz):\n",
    "    matriz[0] = [0, 0, 0]\n",
    "\n",
    "matriz = [[1, 2], [3, 4]]\n",
    "reemplazar_sublista(matriz)\n",
    "print(\"Matriz modificada:\", matriz)"
   ]
  },
  {
   "cell_type": "markdown",
   "metadata": {},
   "source": [
    "`matriz[0] = [...]` reemplaza la sublista completa  \n",
    "Se reemplaza directamente un elemento de la lista. Esto afecta el objeto original porque accedemos directamente a su contenido.  \n",
    "Es distinto a una reasignación de matriz entera, que no afectaría fuera."
   ]
  },
  {
   "cell_type": "markdown",
   "id": "4dcf0ea0",
   "metadata": {},
   "source": [
    "## Ejemplo 7: Modificación y reasignación en la misma función"
   ]
  },
  {
   "cell_type": "code",
   "execution_count": 4,
   "id": "c80c06db",
   "metadata": {},
   "outputs": [
    {
     "name": "stdout",
     "output_type": "stream",
     "text": [
      "Lista en el append [1, 2, 3, 10]\n",
      "Lista en la reasignacion [0, 0, 0]\n",
      "Lista final: [1, 2, 3, 10]\n"
     ]
    }
   ],
   "source": [
    "def operar_lista(lst):\n",
    "    lst.append(10)\n",
    "    print(\"Lista en el append\", lst)\n",
    "    lst = [0, 0, 0]\n",
    "    print(\"Lista en la reasignacion\", lst)\n",
    "\n",
    "lista = [1, 2, 3]\n",
    "operar_lista(lista)\n",
    "print(\"Lista final:\", lista)"
   ]
  },
  {
   "cell_type": "markdown",
   "metadata": {},
   "source": [
    "El `append` sí modifica la lista, pero luego la reasignación solo afecta a la variable local `lst`."
   ]
  },
  {
   "cell_type": "markdown",
   "id": "b39214ba",
   "metadata": {},
   "source": [
    "## Ejemplo 8: Copia superficial vs. copia profunda"
   ]
  },
  {
   "cell_type": "code",
   "execution_count": 6,
   "id": "87713b31",
   "metadata": {},
   "outputs": [
    {
     "name": "stdout",
     "output_type": "stream",
     "text": [
      "Original: [['X', 'Y', 3], [4, 5, 6]]\n",
      "Copia Superficial: [['X', 'Y', 3], [4, 5, 6]]\n",
      "Copia Profunda: [[1, 2, 'Z'], [4, 5, 6]]\n"
     ]
    }
   ],
   "source": [
    "import copy\n",
    "\n",
    "def modificar_listas(original, copia_shallow, copia_deep):\n",
    "    original[0][0] = 'X'\n",
    "    copia_shallow[0][1] = 'Y'\n",
    "    copia_deep[0][2] = 'Z'\n",
    "\n",
    "data = [[1, 2, 3], [4, 5, 6]]\n",
    "copia_superficial = copy.copy(data)\n",
    "copia_Prof = copy.deepcopy(data)\n",
    "\n",
    "modificar_listas(data, copia_superficial, copia_Prof)\n",
    "\n",
    "print(\"Original:\", data)\n",
    "print(\"Copia Superficial:\", copia_superficial)\n",
    "print(\"Copia Profunda:\", copia_Prof)"
   ]
  },
  {
   "cell_type": "markdown",
   "metadata": {},
   "source": [
    "Una copia superficial (`copy`) comparte sublistas internas. Una copia profunda (`deepcopy`) las duplica por completo."
   ]
  }
 ],
 "metadata": {
  "kernelspec": {
   "display_name": "Python 3",
   "language": "python",
   "name": "python3"
  },
  "language_info": {
   "codemirror_mode": {
    "name": "ipython",
    "version": 3
   },
   "file_extension": ".py",
   "mimetype": "text/x-python",
   "name": "python",
   "nbconvert_exporter": "python",
   "pygments_lexer": "ipython3",
   "version": "3.13.1"
  }
 },
 "nbformat": 4,
 "nbformat_minor": 5
}
