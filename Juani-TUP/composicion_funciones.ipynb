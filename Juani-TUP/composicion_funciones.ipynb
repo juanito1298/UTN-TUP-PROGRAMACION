{
  "cells": [
    {
      "cell_type": "markdown",
      "metadata": {
        "id": "Es5eaa3rO5vT"
      },
      "source": [
        "# 📘 Definición y uso de múltiples funciones en Python\n",
        "\n",
        "En este notebook aprenderemos a:\n",
        "1. Definir varias funciones en Python.\n",
        "2. Llamar a estas funciones en un programa principal.\n",
        "3. Encadenar el uso de funciones para obtener resultados personalizados."
      ],
      "id": "Es5eaa3rO5vT"
    },
    {
      "cell_type": "markdown",
      "metadata": {
        "id": "1UUQ1mgbO5vU"
      },
      "source": [
        "## 📝 Definición de la función `siguiente`"
      ],
      "id": "1UUQ1mgbO5vU"
    },
    {
      "cell_type": "code",
      "execution_count": null,
      "metadata": {
        "id": "66rCxmjwO5vV"
      },
      "outputs": [],
      "source": [
        "# Definición de funciones\n",
        "def siguiente(num):\n",
        "    return num + 1"
      ],
      "id": "66rCxmjwO5vV"
    },
    {
      "cell_type": "markdown",
      "metadata": {
        "id": "uYzcIuWsO5vW"
      },
      "source": [
        "📌 **Explicación:**\n",
        "- `def siguiente(num):` declara una función llamada `siguiente` que recibe un parámetro `num`.\n",
        "- `return num + 1` indica que la función devolverá el valor de `num` incrementado en 1."
      ],
      "id": "uYzcIuWsO5vW"
    },
    {
      "cell_type": "markdown",
      "metadata": {
        "id": "lt4SZc5KO5vX"
      },
      "source": [
        "## 📝 Definición de la función `doble`"
      ],
      "id": "lt4SZc5KO5vX"
    },
    {
      "cell_type": "code",
      "execution_count": null,
      "metadata": {
        "id": "7ET7q3UvO5vX"
      },
      "outputs": [],
      "source": [
        "def doble(num):\n",
        "    return num * 2"
      ],
      "id": "7ET7q3UvO5vX"
    },
    {
      "cell_type": "markdown",
      "metadata": {
        "id": "Mn3XYzeSO5vX"
      },
      "source": [
        "📌 **Explicación:**\n",
        "- `def doble(num):` declara una función llamada `doble` que recibe un parámetro `num`.\n",
        "- `return num * 2` indica que la función devolverá el doble del valor de `num`."
      ],
      "id": "Mn3XYzeSO5vX"
    },
    {
      "cell_type": "markdown",
      "metadata": {
        "id": "jXvlsjPiO5vY"
      },
      "source": [
        "## 🚀 Programa principal"
      ],
      "id": "jXvlsjPiO5vY"
    },
    {
      "cell_type": "code",
      "execution_count": null,
      "metadata": {
        "id": "6oozQvqZO5vY"
      },
      "outputs": [],
      "source": [
        "# Programa principal\n",
        "x = siguiente(4)         # Llama a siguiente con 4, devuelve 5\n",
        "y = doble(x)             # Llama a doble con 5, devuelve 10\n",
        "print(y)                # Imprime el resultado final (10)"
      ],
      "id": "6oozQvqZO5vY"
    },
    {
      "cell_type": "markdown",
      "metadata": {
        "id": "PjCd8Wl7O5vZ"
      },
      "source": [
        "📌 **Explicación de la ejecución:**\n",
        "- `x = siguiente(4)` llama a la función `siguiente` con argumento `4` y guarda el resultado (`5`) en `x`.\n",
        "- `y = doble(x)` llama a la función `doble` con argumento `x` (`5`) y guarda el resultado (`10`) en `y`.\n",
        "- `print(y)` muestra en pantalla el valor de `y`, que es `10`."
      ],
      "id": "PjCd8Wl7O5vZ"
    },
    {
      "cell_type": "markdown",
      "metadata": {
        "id": "-_9907zjO5vZ"
      },
      "source": [
        "## 🎯 Ejemplo completo"
      ],
      "id": "-_9907zjO5vZ"
    },
    {
      "cell_type": "code",
      "execution_count": null,
      "metadata": {
        "id": "hcgEPVzHO5va"
      },
      "outputs": [],
      "source": [
        "# Definición de funciones\n",
        "def siguiente(num):\n",
        "    return num + 1\n",
        "\n",
        "def doble(num):\n",
        "    return num * 2\n",
        "\n",
        "# Programa principal\n",
        "x = siguiente(4)\n",
        "y = doble(x)\n",
        "print(y)  # Debería imprimir 10"
      ],
      "id": "hcgEPVzHO5va"
    }
  ],
  "metadata": {
    "kernelspec": {
      "display_name": "Python 3",
      "language": "python",
      "name": "python3"
    },
    "language_info": {
      "name": "python",
      "version": ""
    },
    "colab": {
      "provenance": []
    }
  },
  "nbformat": 4,
  "nbformat_minor": 5
}