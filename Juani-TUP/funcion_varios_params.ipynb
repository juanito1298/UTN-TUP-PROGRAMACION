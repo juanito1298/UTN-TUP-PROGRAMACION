{
  "cells": [
    {
      "cell_type": "markdown",
      "metadata": {
        "id": "PzVsxo_POISa"
      },
      "source": [
        "# 🔢 Cálculo de resto y verificación de múltiplos\n",
        "\n",
        "Este notebook muestra cómo calcular el resto de una división y determinar si un número es múltiplo de otro."
      ],
      "id": "PzVsxo_POISa"
    },
    {
      "cell_type": "markdown",
      "metadata": {
        "id": "lnFU-mvqOISc"
      },
      "source": [
        "## 🧠 Función `obtener_resto`"
      ],
      "id": "lnFU-mvqOISc"
    },
    {
      "cell_type": "code",
      "execution_count": null,
      "metadata": {
        "id": "uhG46KWEOISd"
      },
      "outputs": [],
      "source": [
        "def obtener_resto(num1, num2):\n",
        "    return num1 - num2 * (num1 // num2)  # Sin usar operador %"
      ],
      "id": "uhG46KWEOISd"
    },
    {
      "cell_type": "markdown",
      "metadata": {
        "id": "lzgJUnm_OISe"
      },
      "source": [
        "📌 Esta función calcula el resto usando sólo divisiones enteras (`//`) y multiplicaciones."
      ],
      "id": "lzgJUnm_OISe"
    },
    {
      "cell_type": "markdown",
      "metadata": {
        "id": "ma1x_vhMOISe"
      },
      "source": [
        "## 🔍 Función `es_multiplo`"
      ],
      "id": "ma1x_vhMOISe"
    },
    {
      "cell_type": "code",
      "execution_count": null,
      "metadata": {
        "id": "XUUaSqqMOISf"
      },
      "outputs": [],
      "source": [
        "def es_multiplo(x, y):\n",
        "    return obtener_resto(x, y) == 0"
      ],
      "id": "XUUaSqqMOISf"
    },
    {
      "cell_type": "markdown",
      "metadata": {
        "id": "bXtiJp01OISf"
      },
      "source": [
        "📌 Si el resto es 0, significa que `x` es múltiplo de `y`. La función devuelve `True` o `False`."
      ],
      "id": "bXtiJp01OISf"
    },
    {
      "cell_type": "markdown",
      "metadata": {
        "id": "Y9_FfT4hOISg"
      },
      "source": [
        "## 🚀 Programa principal"
      ],
      "id": "Y9_FfT4hOISg"
    },
    {
      "cell_type": "code",
      "execution_count": null,
      "metadata": {
        "id": "5xwbCZopOISg"
      },
      "outputs": [],
      "source": [
        "a = int(input(\"Primer número: \"))\n",
        "b = int(input(\"Segundo número: \"))\n",
        "\n",
        "resto = obtener_resto(a, b)\n",
        "print(f\"El resto entre {a} y {b} es {resto}\")\n",
        "\n",
        "if es_multiplo(a, b):\n",
        "    print(f\"{a} es múltiplo de {b}\")"
      ],
      "id": "5xwbCZopOISg"
    },
    {
      "cell_type": "markdown",
      "metadata": {
        "id": "GUW2ewg0OISh"
      },
      "source": [
        "✅ En este bloque:\n",
        "- Se solicitan dos números al usuario.\n",
        "- Se calcula el resto con `obtener_resto`.\n",
        "- Se imprime el resultado y, si corresponde, se indica si uno es múltiplo del otro."
      ],
      "id": "GUW2ewg0OISh"
    },
    {
      "cell_type": "markdown",
      "metadata": {
        "id": "soU0ZPO0OISh"
      },
      "source": [
        "## 🧪 Ejemplo completo"
      ],
      "id": "soU0ZPO0OISh"
    },
    {
      "cell_type": "code",
      "execution_count": null,
      "metadata": {
        "id": "T_vY94LmOISh"
      },
      "outputs": [],
      "source": [
        "def obtener_resto(num1, num2):\n",
        "    return num1 - num2 * (num1 // num2)\n",
        "\n",
        "def es_multiplo(x, y):\n",
        "    return obtener_resto(x, y) == 0\n",
        "\n",
        "a = int(input(\"Primer número: \"))\n",
        "b = int(input(\"Segundo número: \"))\n",
        "\n",
        "resto = obtener_resto(a, b)\n",
        "print(f\"El resto entre {a} y {b} es {resto}\")\n",
        "\n",
        "if es_multiplo(a, b):\n",
        "    print(f\"{a} es múltiplo de {b}\")"
      ],
      "id": "T_vY94LmOISh"
    }
  ],
  "metadata": {
    "kernelspec": {
      "display_name": "Python 3",
      "language": "python",
      "name": "python3"
    },
    "language_info": {
      "name": "python",
      "version": ""
    },
    "colab": {
      "provenance": []
    }
  },
  "nbformat": 4,
  "nbformat_minor": 5
}