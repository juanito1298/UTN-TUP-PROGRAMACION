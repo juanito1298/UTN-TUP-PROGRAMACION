{
  "cells": [
    {
      "cell_type": "markdown",
      "source": [
        "# **FUNCIONES**\n",
        "\n",
        "*Programación 1 - Tecnicatura Universitaria en Programación a Distancia - UTN*"
      ],
      "metadata": {
        "id": "uX4X74Um3dLH"
      }
    },
    {
      "cell_type": "markdown",
      "source": [
        "#### **¿QUÉ ES UNA FUNCIÓN?**\n",
        "\n",
        "Una **función** es un bloque de código que realiza una tarea específica. Al usar funciones es posible dividir un problema en partes pequeñas y manejables. Se compone de:\n",
        "\n",
        "- **Entrada (argumentos)**: datos que recibe la función.\n",
        "- **Proceso**: instrucciones que realiza.\n",
        "- **Salida (retorno)**: resultado que devuelve.\n",
        "\n",
        "Son muy útiles ya que permiten reutilizar una porción de código tantas veces como sea necesario.\n"
      ],
      "metadata": {
        "id": "d4A5C9rQjqyt"
      }
    },
    {
      "cell_type": "markdown",
      "source": [
        "\n",
        "#### **Funciones integradas y definidas**\n",
        "\n",
        "**Funciones integradas (built-in):** ya vienen construidas dentro del lenguaje o de algún módulo externo del mismo.  No es necesario definirlas, solo\n",
        "llamarlas.\n",
        "\n"
      ],
      "metadata": {
        "id": "z51dxjeGhYa2"
      }
    },
    {
      "cell_type": "code",
      "source": [
        "print(\"Hola\") # Muestra texto por pantalla\n",
        "input(\"Nombre: \") # Solicita datos al usuario\n",
        "len(\"Python\") # Devuelve la longitud de una cadena"
      ],
      "metadata": {
        "id": "LdvUbXCVhnjn"
      },
      "execution_count": null,
      "outputs": []
    },
    {
      "cell_type": "markdown",
      "source": [
        "**Funciones definidas por el usuario (UDFs):** son construídas por el usuario ya que no vienen incorporadas en el lenguaje."
      ],
      "metadata": {
        "id": "qk78-_TBhmze"
      }
    },
    {
      "cell_type": "markdown",
      "source": [
        "#### **DEFINIR UNA FUNCIÓN**##\n",
        "\n",
        "\n",
        "La palabra reservada para definir una función es `def`. Para crearla debemos indicar un nombre para la función y establecer sus argumentos.\n",
        "\n",
        "La estructura que se usa para definir funciones es la siguiente:\n",
        "\n",
        "\n",
        "```python\n",
        "def nombre_funcion(nombre_argumento):\n",
        "    codigo a ejecutar\n",
        "    return valor_de_retorno\n",
        "```\n",
        "\n",
        "Como ejemplo a continuación se define una función para saltar un renglón, una para calcular el volumen de una esfera y una para mostrar la tabla del 6."
      ],
      "metadata": {
        "id": "z0jUYrYZiXVI"
      }
    },
    {
      "cell_type": "code",
      "source": [
        "def saltar_renglon():\n",
        "  print()"
      ],
      "metadata": {
        "id": "UaZh9Cseks3n"
      },
      "execution_count": null,
      "outputs": []
    },
    {
      "cell_type": "code",
      "execution_count": null,
      "metadata": {
        "id": "XRheyJq5mlM4"
      },
      "outputs": [],
      "source": [
        "from math import pi, pow\n",
        "\n",
        "def calcular_volumen_esfera(radio):\n",
        "    volumen = round((4.0 / 3.0) * pi * pow(radio,3), 2)\n",
        "    return volumen\n",
        "\n",
        "calcular_volumen_esfera(2)"
      ]
    },
    {
      "cell_type": "code",
      "source": [
        "import math\n",
        "\n",
        "def calcular_volumen_esfera(radio):\n",
        "    volumen = round((4.0 / 3.0) * math.pi * math.pow(radio,3), 2)\n",
        "    return volumen\n",
        "\n",
        "radio_esfera = 3\n",
        "calcular_volumen_esfera(radio_esfera)"
      ],
      "metadata": {
        "id": "nZnL9KfHFuht"
      },
      "execution_count": null,
      "outputs": []
    },
    {
      "cell_type": "code",
      "source": [
        "def calcular_tabla_del_6():\n",
        "    for x in range(11):\n",
        "        print(f\"6 * {x} = {6*x}\")\n",
        "\n",
        "calcular_tabla_del_6()"
      ],
      "metadata": {
        "id": "GgrP69G9WC95"
      },
      "execution_count": null,
      "outputs": []
    },
    {
      "cell_type": "markdown",
      "metadata": {
        "id": "OMVZzVx574JW"
      },
      "source": [
        "#### **EJECUTAR UNA FUNCIÓN**##\n",
        "\n",
        "Las funciones se pueden llamar multiples veces a lo largo del código para que devuelvan como resultado su valor de retorno. Para ejecutarlas se usa la estructura `nombre_funcion(argumentos)`."
      ]
    },
    {
      "cell_type": "code",
      "source": [
        "print(calcular_volumen_esfera(2))\n",
        "print(calcular_volumen_esfera(4))\n",
        "saltar_renglon()\n",
        "calcular_tabla_del_6()"
      ],
      "metadata": {
        "id": "K6vuv2q4JQCK"
      },
      "execution_count": null,
      "outputs": []
    },
    {
      "cell_type": "markdown",
      "source": [
        "Ejecutar una función usando determinados argumentos hará que podamos ver el valor de retorno. Sin embargo, si queremos utilizar el resultado más adelante en el código, será necesario que almacenemos el valor de retorno de la función en una variable:"
      ],
      "metadata": {
        "id": "tiFyNzABJXOV"
      }
    },
    {
      "cell_type": "code",
      "execution_count": null,
      "metadata": {
        "id": "WB7CIqJHmlM5"
      },
      "outputs": [],
      "source": [
        "resultado1 = calcular_volumen_esfera(2)\n",
        "print(\"El volumen de una esfera de radio 2 es\", resultado1)"
      ]
    },
    {
      "cell_type": "code",
      "source": [
        "radio2 = 6\n",
        "resultado2 = calcular_volumen_esfera(radio2)\n",
        "print(f\"El volumen de una esfera de radio {radio2} es {resultado2}\")"
      ],
      "metadata": {
        "id": "Rd_STzSMlDsF"
      },
      "execution_count": null,
      "outputs": []
    },
    {
      "cell_type": "markdown",
      "metadata": {
        "id": "8vq0rBK6mlNA"
      },
      "source": [
        "\n",
        "### **ELEMENTOS DE LAS FUNCIONES**\n",
        "\n",
        "\n",
        "\n"
      ]
    },
    {
      "cell_type": "markdown",
      "source": [
        "#### **ARGUMENTOS**##\n",
        "\n",
        "Son los valores o valor que la función toma como input.\n",
        "Los argumentos pueden o no tener un valor por defecto.\n"
      ],
      "metadata": {
        "id": "rX5E9vzj88eT"
      }
    },
    {
      "cell_type": "markdown",
      "source": [
        "#####**Funciones con valor por defecto**"
      ],
      "metadata": {
        "id": "7nmyixNdmkVL"
      }
    },
    {
      "cell_type": "code",
      "source": [
        "def elevar_al_cuadrado(numero = 10):\n",
        "    resultado = numero*numero\n",
        "    return resultado\n",
        "\n",
        "elevar_al_cuadrado(8)"
      ],
      "metadata": {
        "id": "eAGQdZNgHj-g"
      },
      "execution_count": null,
      "outputs": []
    },
    {
      "cell_type": "code",
      "source": [
        "elevar_al_cuadrado()"
      ],
      "metadata": {
        "id": "EiEfs3qBHsfQ"
      },
      "execution_count": null,
      "outputs": []
    },
    {
      "cell_type": "markdown",
      "source": [
        "#####**Funciones sin argumentos**"
      ],
      "metadata": {
        "id": "ARreuMOVxDia"
      }
    },
    {
      "cell_type": "code",
      "source": [
        "def saludar():\n",
        "    return \"¡Hola! ¿Cómo estás?\"\n",
        "\n",
        "saludo = saludar()\n",
        "\n",
        "print(saludo)"
      ],
      "metadata": {
        "id": "_Yq3pHHVwF7R"
      },
      "execution_count": null,
      "outputs": []
    },
    {
      "cell_type": "markdown",
      "source": [
        "#####**Funciones con múltiples argumentos**\n",
        "Las funciones pueden recibir más de un parámetro para trabajar con varios datos al mismo tiempo. Esto permite comparar, combinar o realizar cálculos entre valores distintos.\n"
      ],
      "metadata": {
        "id": "Hhz3KxNswOyR"
      }
    },
    {
      "cell_type": "code",
      "source": [
        "def obtener_resto(a, b):\n",
        "    \"\"\"Retorna el resto de la división entre a y b.\"\"\"\n",
        "    return a % b\n",
        "\n",
        "def obtener_resto_sin_mod(a, b):\n",
        "    \"\"\"Resto sin usar %\"\"\"\n",
        "    return a - (b * (a // b))\n",
        "\n",
        "print(obtener_resto(11, 3))\n",
        "print(obtener_resto_sin_mod(11, 3))"
      ],
      "metadata": {
        "id": "vtUVjzwowQf8"
      },
      "execution_count": null,
      "outputs": []
    },
    {
      "cell_type": "markdown",
      "source": [
        "\n",
        "#### **VALORES DE RETORNO**##\n",
        "\n",
        "Se usan para especificar el resultado de la función. Se definen con la instrucción `return` al final de la función.\n"
      ],
      "metadata": {
        "id": "3qwagj4QzSNR"
      }
    },
    {
      "cell_type": "markdown",
      "source": [
        "#####**Funciones sin valores de retorno**\n",
        "\n",
        "Son funciones que no devuelven nada una vez ejecutadas. Por ejemplo una función que queremos que cada vez que se ejecute se incremente un contador, y donde no es necesario que el usuario reciba el estado del contador al finalizar la ejecución."
      ],
      "metadata": {
        "id": "vnki4yiy0GH6"
      }
    },
    {
      "cell_type": "code",
      "source": [
        "def incrementar_contador():\n",
        "  contador =+ 1\n",
        "\n",
        "print(incrementar_contador())"
      ],
      "metadata": {
        "id": "W2_w5Cpq0l_-"
      },
      "execution_count": null,
      "outputs": []
    },
    {
      "cell_type": "markdown",
      "source": [
        "#####**Funciones con un solo valor de retorno**\n",
        "\n",
        "Devuelven un solo valor luego de ser ejecutadas. Por ejemplo:"
      ],
      "metadata": {
        "id": "mzWxmZfN1K-d"
      }
    },
    {
      "cell_type": "code",
      "source": [
        "def es_par(numero):\n",
        "  check = numero % 2 == 0\n",
        "  return check\n",
        "\n",
        "resultado = es_par(13)\n",
        "print(resultado)"
      ],
      "metadata": {
        "id": "_UVeOOe91XVX"
      },
      "execution_count": null,
      "outputs": []
    },
    {
      "cell_type": "markdown",
      "source": [
        "#### **COMPOSICIÓN DE FUNCIONES**##\n",
        "La composición de funciones ocurre cuando se usa el resultado de una función como argumento de otra. Es decir, se encadenan las llamadas y Python ejecuta primero la más interna."
      ],
      "metadata": {
        "id": "j54OF75BqL4S"
      }
    },
    {
      "cell_type": "code",
      "source": [
        "def siguiente(n):\n",
        "    return n + 1\n",
        "def doble(n):\n",
        "    return n * 2\n",
        "\n",
        "# Doble del siguiente de un número:\n",
        "print(doble(siguiente(4)))"
      ],
      "metadata": {
        "id": "BxPpNiAUquAq"
      },
      "execution_count": null,
      "outputs": []
    },
    {
      "cell_type": "code",
      "source": [
        "# Siguiente del doble de un número:\n",
        "valor = int(input(\"Introduce un entero: \"))\n",
        "print(\"El siguiente del doble es:\", siguiente(doble(valor)))"
      ],
      "metadata": {
        "id": "pwTp1XCkrEqJ"
      },
      "execution_count": null,
      "outputs": []
    },
    {
      "cell_type": "markdown",
      "source": [
        "#### **TIPOS DE PARAMETROS DE FUNCIÓN**##\n",
        "\n"
      ],
      "metadata": {
        "id": "HJ1uHRHGzWpw"
      }
    },
    {
      "cell_type": "markdown",
      "source": [
        "#####**Parámetros por valor**\n",
        "La función recibe una copia del valor original. Es decir, cualquier cambio que se haga dentro de la función no afecta la variable externa.\n",
        "Este comportamiento es típico con tipos de datos inmutables como `int`, `float`, `str`\n",
        "y `tuple`.\n",
        "\n",
        "Lo que sucede dentro de la función queda “encapsulado”: la variable original fuera de la función no se entera de los cambios.\n"
      ],
      "metadata": {
        "id": "nrYUUD12satX"
      }
    },
    {
      "cell_type": "code",
      "source": [
        "def incrementar(x):\n",
        "    x += 1 # cambia la copia local\n",
        "    return x\n",
        "\n",
        "n = 5\n",
        "print(incrementar(n)) # (modificada)\n",
        "print(n) # (sin modificar)"
      ],
      "metadata": {
        "id": "QtqukOMns0C5"
      },
      "execution_count": null,
      "outputs": []
    },
    {
      "cell_type": "markdown",
      "source": [
        "#####**Parámetros por referencia**\n",
        "En este caso, se pasa una referencia al objeto original, no una copia. Esto significa que los cambios hechos dentro de la función sí afectan a la variable externa. Este comportamiento es típico con tipos de datos mutables (`list`, `dict` o `set`).\n",
        "\n",
        "La función puede modificar directamente el contenido del objeto porque ambas, la función y el programa principal, apuntan al mismo espacio en memoria.\n"
      ],
      "metadata": {
        "id": "y5IIDI24tLFv"
      }
    },
    {
      "cell_type": "code",
      "source": [
        "def agregar_elemento(lista, elemento):\n",
        "    lista.append(elemento) # modifica la lista original\n",
        "\n",
        "mi_lista = [1, 2, 3]\n",
        "agregar_elemento(mi_lista, 4)\n",
        "print(mi_lista)"
      ],
      "metadata": {
        "id": "_NvL9uyrtfQo"
      },
      "execution_count": null,
      "outputs": []
    },
    {
      "cell_type": "markdown",
      "source": [
        "En Python, **todos** los parámetros se pasan como referencias a objetos, pero\n",
        "los tipos inmutables (`int`, `str`, `tuple`) se comportan como si fueran por valor.\n"
      ],
      "metadata": {
        "id": "RBXrhKkhts2P"
      }
    },
    {
      "cell_type": "markdown",
      "source": [
        "#### **ÁMBITOS**##\n",
        "Cada variable “vive” en un determinado ámbito o “alcance”. Esto define dónde puede usarse y quién tiene acceso a ella.\n"
      ],
      "metadata": {
        "id": "XkwzVhUquNXo"
      }
    },
    {
      "cell_type": "markdown",
      "source": [
        "#####**Ámbito local**\n",
        "Las variables locales son aquellas que se declaran dentro de una función. Sólo son visibles para la función donde se crearon.\n",
        "\n",
        "Éstas se pueden crear y modificar únicamente durante el procesamiento de una función y se olvidan o dejan de existir en cuanto termina la ejecución de la función."
      ],
      "metadata": {
        "id": "l0GKfX-SuUtG"
      }
    },
    {
      "cell_type": "code",
      "source": [
        "def mostrar_mensaje():\n",
        "    mensaje = \"Hola desde dentro de la función\"\n",
        "    print(mensaje)\n",
        "\n",
        "mostrar_mensaje()  # Esto funciona\n",
        "print(mensaje)     # Esto da error: la variable no existe fuera de la función"
      ],
      "metadata": {
        "id": "g-DHiAHlu_Qf"
      },
      "execution_count": null,
      "outputs": []
    },
    {
      "cell_type": "markdown",
      "source": [
        "#####**Ámbito global**\n",
        "\n",
        "Las variables globales son visibles para todas las funciones que se definen después de ellas en el código. No se recomienda utilizarlas en códigos largos.\n",
        "\n",
        "Si se quiere actualizar una variable global dentro de una función, se debe incluir la declaración `global`. Por ejemplo:"
      ],
      "metadata": {
        "id": "Xoq9YRP-vH6f"
      }
    },
    {
      "cell_type": "code",
      "source": [
        "a = 10  # global\n",
        "print(a) # → 10\n",
        "\n",
        "def cambiar():\n",
        "  global a\n",
        "  a = 20\n",
        "\n",
        "cambiar()\n",
        "print(a)  # → 20\n"
      ],
      "metadata": {
        "id": "SPtpvjUgvNsa"
      },
      "execution_count": null,
      "outputs": []
    },
    {
      "cell_type": "markdown",
      "source": [
        "\n",
        "### **BUENAS PRÁCTICAS**\n",
        "\n"
      ],
      "metadata": {
        "id": "5B3AuXHTknrj"
      }
    },
    {
      "cell_type": "markdown",
      "source": [
        "##### **1. Indicar el tipo de dato esperado de los argumentos y de los valores de retorno (type hint)**\n",
        "\n",
        "En Python se estila indicar qué tipo de dato corresponde a los argumentos de la función y su valor de retorno. Sin embargo, como Python es un lenguage de tipado dinámico, la función no \"obligará\" al usuario a que ingrese argumentos del tipo de dato declarado. Esta práctica se hace simplemente por una cuestión de limpieza visual de código."
      ],
      "metadata": {
        "id": "fwUpSojq8uem"
      }
    },
    {
      "cell_type": "code",
      "source": [
        "import math\n",
        "\n",
        "def calcular_volumen_esfera(radio: int) -> float:\n",
        "    volumen = round((4.0 / 3.0) * math.pi * math.pow(radio,3), 2)\n",
        "    return volumen\n",
        "\n",
        "# Si ejecutamos la siguiente línea no indica error por el hecho de que estemos\n",
        "# pasándole un float en vez de un integer a la función porque Python es\n",
        "# de tipado dinámico\n",
        "print(calcular_volumen_esfera(3.5))"
      ],
      "metadata": {
        "id": "Pyq7-g0zo98b"
      },
      "execution_count": null,
      "outputs": []
    },
    {
      "cell_type": "markdown",
      "source": [
        "#####**2. Dejar una descripción detallada de qué hace la función (docstring)**\n",
        "\n",
        "Cuando se trabaja en conjunto entre varias personas en un código es una buena práctica dejar un comentario dentro de la función que explique qué realiza, cuáles son sus argumentos y cuáles son sus valores de retorno. La estructura utilizada es la siguiente:"
      ],
      "metadata": {
        "id": "92UeVtkqpV17"
      }
    },
    {
      "cell_type": "code",
      "source": [
        "def calcular_volumen_esfera(radio: float) -> float:\n",
        "    \"\"\"\n",
        "    Calcula el volumen de la esfera a partir de su radio.\n",
        "    Args:\n",
        "      - radio: float que representa el radio de la esfera.\n",
        "    Returns:\n",
        "      - volumen: float que representa el volumen de la esfera.\n",
        "    \"\"\"\n",
        "\n",
        "    volumen = round((4.0 / 3.0) * math.pi * math.pow(radio,3), 2)\n",
        "    return volumen\n",
        "\n",
        "\n",
        "print(calcular_volumen_esfera(3.5))"
      ],
      "metadata": {
        "id": "sN4MGCVcqTZc"
      },
      "execution_count": null,
      "outputs": []
    },
    {
      "cell_type": "markdown",
      "source": [
        "#####**3. Definir una función por tarea**\n",
        "\n",
        "Las funciones que creemos deberían tener una única tarea. Esto hace que nuestro código sea reutilizable y sencillo de leer.\n",
        "\n",
        "Por ejemplo lo siguiente sería una mala práctica ya que utilizamos una única función para calcular el promedio, la mediana y la moda."
      ],
      "metadata": {
        "id": "JD3GieSn9RiE"
      }
    },
    {
      "cell_type": "code",
      "source": [
        "def calcular_estadisticas(datos:list):\n",
        "  \"\"\"\n",
        "  Calcula el promedio, la mediana y la moda de un conjunto de datos.\n",
        "\n",
        "  Args:\n",
        "    datos: Una lista de números.\n",
        "\n",
        "  Returns:\n",
        "    Un diccionario con las claves \"promedio\", \"mediana\" y \"moda\".\n",
        "  \"\"\"\n",
        "\n",
        "  if not datos:\n",
        "    raise ValueError(\"La lista de datos está vacía\")\n",
        "\n",
        "  # Ordenar los datos\n",
        "  datos_ordenados = sorted(datos)\n",
        "\n",
        "  # Calcular el promedio\n",
        "  promedio = sum(datos) / len(datos)\n",
        "\n",
        "  # Calcular la mediana\n",
        "  if len(datos) % 2 == 0:\n",
        "    mediana1 = datos_ordenados[len(datos) // 2 - 1]\n",
        "    mediana2 = datos_ordenados[len(datos) // 2]\n",
        "    mediana = (mediana1 + mediana2) / 2\n",
        "  else:\n",
        "    mediana = datos_ordenados[len(datos) // 2]\n",
        "\n",
        "  # Calcular la moda\n",
        "  moda = None\n",
        "  frecuencia_maxima = 0\n",
        "  for valor in datos_ordenados:\n",
        "    frecuencia_actual = datos_ordenados.count(valor)\n",
        "    if frecuencia_actual > frecuencia_maxima:\n",
        "      frecuencia_maxima = frecuencia_actual\n",
        "      moda = valor\n",
        "\n",
        "  return {\n",
        "      \"promedio\": promedio,\n",
        "      \"mediana\": mediana,\n",
        "      \"moda\": moda\n",
        "  }\n",
        "\n",
        "lista_estadistica = [1, 2, 3, 3]\n",
        "print(calcular_estadisticas(lista_estadistica))"
      ],
      "metadata": {
        "id": "gZy-3586kx-e"
      },
      "execution_count": null,
      "outputs": []
    },
    {
      "cell_type": "markdown",
      "source": [
        "Este código funciona pero podría no ser lo más sencillo de leer ni de usar. Es preferible crear funciones más pequeñas y más reutilizables a lo largo del código.\n"
      ],
      "metadata": {
        "id": "iyzm2gr-lClj"
      }
    },
    {
      "cell_type": "code",
      "source": [
        "def calcular_promedio(datos: list) -> float:\n",
        "  \"\"\"\n",
        "  Calcula el promedio de un conjunto de datos.\n",
        "\n",
        "  Args:\n",
        "    datos: Una lista de números.\n",
        "\n",
        "  Returns:\n",
        "    El promedio de los datos.\n",
        "  \"\"\"\n",
        "\n",
        "  return sum(datos) / len(datos)\n",
        "\n",
        "\n",
        "def calcular_mediana(datos:list) -> float:\n",
        "  \"\"\"\n",
        "  Calcula la mediana de un conjunto de datos.\n",
        "\n",
        "  Args:\n",
        "    datos: Una lista de números ordenados.\n",
        "\n",
        "  Returns:\n",
        "    La mediana de los datos.\n",
        "  \"\"\"\n",
        "\n",
        "  longitud_lista = len(datos)\n",
        "  if longitud_lista % 2 == 0:\n",
        "    mediana1 = datos[longitud_lista // 2 - 1]\n",
        "    mediana2 = datos[longitud_lista // 2]\n",
        "    return (mediana1 + mediana2) / 2\n",
        "  else:\n",
        "    return datos[longitud_lista // 2]\n",
        "\n",
        "\n",
        "def calcular_moda(datos:list)  -> float:\n",
        "  \"\"\"\n",
        "  Calcula la moda de un conjunto de datos.\n",
        "\n",
        "  Args:\n",
        "    datos: Una lista de números.\n",
        "\n",
        "  Returns:\n",
        "    La moda de los datos (o None si no hay una moda única).\n",
        "  \"\"\"\n",
        "\n",
        "  moda = None\n",
        "  frecuencia_maxima = 0\n",
        "  for valor in datos:\n",
        "    frecuencia_actual = datos.count(valor)\n",
        "    if frecuencia_actual > frecuencia_maxima:\n",
        "      frecuencia_maxima = frecuencia_actual\n",
        "      moda = valor\n",
        "\n",
        "  return moda\n",
        "\n",
        "# Cuál es la falla de esta función?\n",
        "\n",
        "def calcular_estadisticas(datos:list)  -> dict:\n",
        "  \"\"\"\n",
        "  Calcula el promedio, la mediana y la moda de un conjunto de datos.\n",
        "\n",
        "  Args:\n",
        "    datos: Una lista de números.\n",
        "\n",
        "  Returns:\n",
        "    Un diccionario con las claves \"promedio\", \"mediana\" y \"moda\".\n",
        "  \"\"\"\n",
        "\n",
        "  if not datos:\n",
        "    raise ValueError(\"La lista de datos está vacía\")\n",
        "\n",
        "  datos_ordenados = sorted(datos)\n",
        "  promedio = calcular_promedio(datos)\n",
        "  mediana = calcular_mediana(datos_ordenados)\n",
        "  moda = calcular_moda(datos)\n",
        "\n",
        "  return {\n",
        "      \"promedio\": promedio,\n",
        "      \"mediana\": mediana,\n",
        "      \"moda\": moda\n",
        "  }\n",
        "\n",
        "lista_estadistica = [1, 2, 3, 3]\n",
        "print(calcular_estadisticas(lista_estadistica))"
      ],
      "metadata": {
        "id": "34aUPP28k8S3"
      },
      "execution_count": null,
      "outputs": []
    }
  ],
  "metadata": {
    "kernelspec": {
      "display_name": "Python 3",
      "language": "python",
      "name": "python3"
    },
    "language_info": {
      "codemirror_mode": {
        "name": "ipython",
        "version": 3
      },
      "file_extension": ".py",
      "mimetype": "text/x-python",
      "name": "python",
      "nbconvert_exporter": "python",
      "pygments_lexer": "ipython3",
      "version": "3.7.6"
    },
    "colab": {
      "provenance": []
    }
  },
  "nbformat": 4,
  "nbformat_minor": 0
}